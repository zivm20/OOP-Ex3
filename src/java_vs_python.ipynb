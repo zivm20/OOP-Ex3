{
 "cells": [
  {
   "cell_type": "code",
   "execution_count": null,
   "metadata": {},
   "outputs": [],
   "source": [
    "import matplotlib.pyplot as plt\n",
    "import pandas as pd\n",
    "import numpy as np\n",
    "from GraphAlgo import GraphAlgo\n",
    "from DiGraph import DiGraph"
   ]
  },
  {
   "cell_type": "code",
   "execution_count": null,
   "metadata": {},
   "outputs": [],
   "source": [
    "def load_output(file):\n",
    "    lines = []\n",
    "    with open(file,'r') as f:\n",
    "        lines = f.readlines()\n",
    "    #json_file, node_size, avg_edges_per_node, time_load time_shortest_path, time_TSP, time_centerPoint\n",
    "    json = []\n",
    "    node_size = []\n",
    "    avg_e = []\n",
    "    time_load = []\n",
    "    shortestPath = []\n",
    "    time_tsp = []\n",
    "    time_centerPoint = []\n",
    "\n",
    "    for line in lines:\n",
    "        items = line.strip().split(\", \")\n",
    "        json.append(items[0])\n",
    "        node_size.append(items[1])\n",
    "        avg_e.append(items[2])\n",
    "        time_load.append(items[3])\n",
    "        shortestPath.append(items[4])\n",
    "        time_tsp.append(items[5])\n",
    "        time_centerPoint.append(items[6])\n",
    "    data = {\"json_file\":json, \"node_size\":node_size, \"avg_edges_per_node\":avg_e, \"time_load\":time_load, \"shortest_path\":shortestPath , \"TSP\": time_tsp , \"center_point\":time_centerPoint}\n",
    "    return data"
   ]
  },
  {
   "cell_type": "code",
   "execution_count": null,
   "metadata": {},
   "outputs": [],
   "source": [
    "python_data = load_output(\"benchmark/python_out.txt\")"
   ]
  },
  {
   "cell_type": "code",
   "execution_count": null,
   "metadata": {},
   "outputs": [],
   "source": []
  },
  {
   "cell_type": "code",
   "execution_count": null,
   "metadata": {},
   "outputs": [],
   "source": []
  },
  {
   "cell_type": "code",
   "execution_count": null,
   "metadata": {},
   "outputs": [],
   "source": []
  },
  {
   "cell_type": "code",
   "execution_count": null,
   "metadata": {},
   "outputs": [],
   "source": []
  },
  {
   "cell_type": "code",
   "execution_count": null,
   "metadata": {},
   "outputs": [],
   "source": []
  },
  {
   "cell_type": "code",
   "execution_count": null,
   "metadata": {},
   "outputs": [],
   "source": []
  }
 ],
 "metadata": {
  "language_info": {
   "name": "python"
  },
  "orig_nbformat": 4
 },
 "nbformat": 4,
 "nbformat_minor": 2
}
